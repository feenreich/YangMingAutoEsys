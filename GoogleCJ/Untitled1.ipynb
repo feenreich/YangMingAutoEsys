{
 "cells": [
  {
   "cell_type": "code",
   "execution_count": 30,
   "metadata": {},
   "outputs": [
    {
     "name": "stdout",
     "output_type": "stream",
     "text": [
      "1\n",
      "0 25\n",
      "3292937 175597 18779 50429 375469 1651121 2102 3722 2376497 611683 489059 2328901 3150061 829981 421301 76409 38477 291931 730241 959821 1664197 3057407 4267589 4729181 5335543\n",
      "Case #1: SUBDERMATOGLYPHICFJKNQVWXZ\n"
     ]
    }
   ],
   "source": [
    "def gcd(a,b):\n",
    "    while(b != 0):\n",
    "        r = a%b\n",
    "        a = b\n",
    "        b = r\n",
    "    return a\n",
    "\n",
    "T = int(input().strip())\n",
    "for i in range(1, T+1):\n",
    "    N, L = [int(s) for s in input().split()]\n",
    "    nums = [int(s) for s in input().split()]\n",
    "    primes = []\n",
    "    my_dict = {}\n",
    "    ans_int = [0]*(L+1)\n",
    "    ans = \"\"\n",
    "    for j in range(L):\n",
    "        if nums[j] != nums[j+1]:\n",
    "            ans_int[j+1] = gcd(nums[j],nums[j+1])\n",
    "            primes.append(ans_int[j+1])\n",
    "            break\n",
    "    for k in reversed(range(j+1)):\n",
    "        ans_int[k] = nums[k]/ans_int[k+1]\n",
    "        if not (ans_int[k] in primes):\n",
    "            primes.append(ans_int[k])\n",
    "    for k in range(j+1,L):\n",
    "        ans_int[k+1] = nums[k]/ans_int[k]\n",
    "        if not (ans_int[k+1] in primes):\n",
    "            primes.append(ans_int[k+1])\n",
    "    if len(primes) > 26:\n",
    "        continue\n",
    "    primes.sort()\n",
    "    C = 'A'\n",
    "    for p in primes:\n",
    "        my_dict[p] = C\n",
    "        C = chr(ord(C)+1)\n",
    "    for val in ans_int:\n",
    "        ans = ans + my_dict[val]\n",
    "    print(\"Case #{}: {}\".format(i,ans))\n",
    "    "
   ]
  },
  {
   "cell_type": "code",
   "execution_count": 34,
   "metadata": {},
   "outputs": [
    {
     "name": "stdout",
     "output_type": "stream",
     "text": [
      "[\n"
     ]
    }
   ],
   "source": [
    "C = chr(ord('Z')+1)\n",
    "print(C)"
   ]
  },
  {
   "cell_type": "code",
   "execution_count": null,
   "metadata": {},
   "outputs": [],
   "source": []
  }
 ],
 "metadata": {
  "kernelspec": {
   "display_name": "Python 3",
   "language": "python",
   "name": "python3"
  },
  "language_info": {
   "codemirror_mode": {
    "name": "ipython",
    "version": 3
   },
   "file_extension": ".py",
   "mimetype": "text/x-python",
   "name": "python",
   "nbconvert_exporter": "python",
   "pygments_lexer": "ipython3",
   "version": "3.6.4"
  }
 },
 "nbformat": 4,
 "nbformat_minor": 2
}
