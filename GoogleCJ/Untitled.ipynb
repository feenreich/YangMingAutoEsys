{
 "cells": [
  {
   "cell_type": "code",
   "execution_count": null,
   "metadata": {},
   "outputs": [],
   "source": [
    "def gcd(a,b):\n",
    "    while(b != 0):\n",
    "        r = a%b\n",
    "        a = b\n",
    "        b = r\n",
    "    return a\n",
    "\n",
    "T = int(input())\n",
    "for i in range(1, T+1):\n",
    "    N, L = [int(s) for s in input().split(\" \")]\n",
    "    nums = [int(s) for s in input().split(\" \")]\n",
    "    primes = []\n",
    "    my_dict = {}\n",
    "    ans_int = [0]*(L+1)\n",
    "    ans = \"\"\n",
    "    for j in range(L):\n",
    "        if nums[j] != nums[j+1]:\n",
    "            break\n",
    "    b = gcd(nums[j],nums[j+1])\n",
    "    tmp = nums[j]/b\n",
    "    ans_int[j+1] = tmp\n",
    "    primes.append(tmp)\n",
    "    for k in reversed(range(j+1)):\n",
    "        tmp = nums[k]/tmp\n",
    "        ans_int[k] = tmp\n",
    "        if not (tmp in primes):\n",
    "            primes.append(tmp)\n",
    "    for k in range(j+1,L):\n",
    "        tmp = nums[k]/tmp\n",
    "        ans_int[k+1] = tmp\n",
    "        if not (tmp in primes):\n",
    "            primes.append(tmp)\n",
    "    primes.sort()\n",
    "    C = 'A'\n",
    "    for p in primes:\n",
    "        my_dict[p] = C\n",
    "        C = chr(ord(C)+1)\n",
    "    for val in ans_int:\n",
    "        ans = ans + my_dict[val]\n",
    "    print(\"Case #{}: {}\".format(i,ans))\n",
    "    "
   ]
  },
  {
   "cell_type": "code",
   "execution_count": null,
   "metadata": {},
   "outputs": [],
   "source": []
  }
 ],
 "metadata": {
  "kernelspec": {
   "display_name": "Python 3",
   "language": "python",
   "name": "python3"
  }
 },
 "nbformat": 4,
 "nbformat_minor": 2
}
